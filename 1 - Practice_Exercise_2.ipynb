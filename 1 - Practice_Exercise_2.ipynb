{
 "cells": [
  {
   "cell_type": "markdown",
   "metadata": {},
   "source": [
    "1. Ask user to enter a string and check that it is made up only alphabets:"
   ]
  },
  {
   "cell_type": "code",
   "execution_count": 3,
   "metadata": {},
   "outputs": [],
   "source": [
    "\n",
    "user_input = input(\"Enter a string (only alphabets): \")\n",
    "if user_input.isalpha():\n",
    "    print(\"Valid input: only alphabets.\")\n",
    "else:\n",
    "    print(\"Invalid input. Please enter only alphabets.\")"
   ]
  },
  {
   "cell_type": "markdown",
   "metadata": {},
   "source": [
    "2. Now, make sure that the string is made up of both alphabets and numbers:\n",
    "\n",
    "TRY using isalnum() function and then entering only alhpabets in the string and see what happens."
   ]
  },
  {
   "cell_type": "code",
   "execution_count": 6,
   "metadata": {},
   "outputs": [
    {
     "name": "stdout",
     "output_type": "stream",
     "text": [
      "Valid input: alphabets and numbers.\n"
     ]
    }
   ],
   "source": [
    "\n",
    "user_input = input(\"Enter a string (alphabets and numbers): \")\n",
    "if user_input.isalnum():\n",
    "    print(\"Valid input: alphabets and numbers.\")\n",
    "else:\n",
    "    print(\"Invalid input. Please enter both alphabets and numbers.\")"
   ]
  },
  {
   "cell_type": "markdown",
   "metadata": {},
   "source": [
    "3. Now, make sure that the string is made up of both alphabets and at least one number:\n"
   ]
  },
  {
   "cell_type": "code",
   "execution_count": null,
   "metadata": {},
   "outputs": [],
   "source": [
    "user_input = input(\"Enter a string (alphabets and at least one number): \")\n",
    "if user_input.isalnum() and any(char.isdigit() for char in user_input):\n",
    "    print( \"Valid input: alphabets and at least one number.\")\n",
    "else:\n",
    "    print(\"Invalid input. Please include at least one number.\")"
   ]
  },
  {
   "cell_type": "markdown",
   "metadata": {},
   "source": [
    "4. Now, make sure that the string is made up of both alphabets, at least one number, and at least one special character:"
   ]
  },
  {
   "cell_type": "code",
   "execution_count": null,
   "metadata": {},
   "outputs": [],
   "source": [
    "\n",
    "user_input = input(\"Enter a string (alphabets, at least one number, and one special character): \")\n",
    "if any(char.isalpha() for char in user_input) and any(char.isdigit() for char in user_input) and not user_input.isalnum():\n",
    "    print (\"Valid input: alphabets, at least one number, and one special character.\")\n",
    "else:\n",
    "    print (\"Invalid input. Please include at least one alphabet, one number, and one special character.\")\n"
   ]
  },
  {
   "cell_type": "markdown",
   "metadata": {},
   "source": [
    "5. Now, modify the above code so that if the user enters an invalid string, the program should ask the user to enter another string again, and keep asking until a valid string has been entered."
   ]
  },
  {
   "cell_type": "code",
   "execution_count": 1,
   "metadata": {},
   "outputs": [
    {
     "name": "stdout",
     "output_type": "stream",
     "text": [
      "Invalid input. Please include at least one alphabet, one number, and one special character.\n",
      "Invalid input. Please include at least one alphabet, one number, and one special character.\n"
     ]
    },
    {
     "data": {
      "text/plain": [
       "'Valid input: alphabets, at least one number, and one special character.'"
      ]
     },
     "execution_count": 1,
     "metadata": {},
     "output_type": "execute_result"
    }
   ],
   "source": [
    "\n",
    "def check_only_alphabets():\n",
    "    user_input = input(\"Enter a string (only alphabets): \")\n",
    "    if user_input.isalpha():\n",
    "        return \"Valid input: only alphabets.\"\n",
    "    else:\n",
    "        return \"Invalid input. Please enter only alphabets.\"\n",
    "\n",
    "def check_alphabets_and_numbers():\n",
    "    user_input = input(\"Enter a string (alphabets and numbers): \")\n",
    "    if user_input.isalnum():\n",
    "        return \"Valid input: alphabets and numbers.\"\n",
    "    else:\n",
    "        return \"Invalid input. Please enter both alphabets and numbers.\"\n",
    "\n",
    "def check_alphabets_and_at_least_one_number():\n",
    "    user_input = input(\"Enter a string (alphabets and at least one number): \")\n",
    "    if user_input.isalnum() and any(char.isdigit() for char in user_input):\n",
    "        return \"Valid input: alphabets and at least one number.\"\n",
    "    else:\n",
    "        return \"Invalid input. Please include at least one number.\"\n",
    "\n",
    "def check_alphabets_at_least_one_number_and_special_char():\n",
    "    user_input = input(\"Enter a string (alphabets, at least one number, and one special character): \")\n",
    "    if any(char.isalpha() for char in user_input) and any(char.isdigit() for char in user_input) and not user_input.isalnum():\n",
    "        return \"Valid input: alphabets, at least one number, and one special character.\"\n",
    "    else:\n",
    "        return \"Invalid input. Please include at least one alphabet, one number, and one special character.\"\n",
    "\n",
    "def validate_until_successful(func):\n",
    "    while True:\n",
    "        result = func()\n",
    "        if \"Valid input\" in result:\n",
    "            return result\n",
    "        print(result)\n",
    "\n",
    "\n",
    "validate_until_successful(check_alphabets_at_least_one_number_and_special_char)\n"
   ]
  }
 ],
 "metadata": {
  "kernelspec": {
   "display_name": "Python 3",
   "language": "python",
   "name": "python3"
  },
  "language_info": {
   "codemirror_mode": {
    "name": "ipython",
    "version": 3
   },
   "file_extension": ".py",
   "mimetype": "text/x-python",
   "name": "python",
   "nbconvert_exporter": "python",
   "pygments_lexer": "ipython3",
   "version": "3.12.5"
  }
 },
 "nbformat": 4,
 "nbformat_minor": 2
}
